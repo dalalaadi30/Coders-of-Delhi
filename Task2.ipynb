{
 "cells": [
  {
   "cell_type": "code",
   "execution_count": 44,
   "id": "77a1532b-e8be-4b5d-896f-e65c65d6f65f",
   "metadata": {},
   "outputs": [],
   "source": [
    "import json"
   ]
  },
  {
   "cell_type": "code",
   "execution_count": 46,
   "id": "8b280a98-3ac7-4e36-8de5-429f7d270f81",
   "metadata": {},
   "outputs": [],
   "source": [
    "# Defining a function to load the data \n",
    "\n",
    "def load_data(filename):\n",
    "    with open(filename, \"r\") as f:\n",
    "        data = json.load(f)\n",
    "    return data"
   ]
  },
  {
   "cell_type": "code",
   "execution_count": 48,
   "id": "35ff9f92-cbbf-4007-8101-7af4c61ee377",
   "metadata": {},
   "outputs": [],
   "source": [
    "data = load_data(\"data2.json\")"
   ]
  },
  {
   "cell_type": "code",
   "execution_count": 50,
   "id": "819d4b58-fd3d-4723-9656-24921da6ac6c",
   "metadata": {},
   "outputs": [
    {
     "data": {
      "text/plain": [
       "{'users': [{'id': 1, 'name': 'Amit', 'friends': [2, 3], 'liked_pages': [101]},\n",
       "  {'id': 2, 'name': 'Priya', 'friends': [1, 4], 'liked_pages': [102]},\n",
       "  {'id': 3, 'name': '', 'friends': [1], 'liked_pages': [101, 103]},\n",
       "  {'id': 4, 'name': 'Sara', 'friends': [2, 2], 'liked_pages': [104]},\n",
       "  {'id': 5, 'name': 'Amit', 'friends': [], 'liked_pages': []}],\n",
       " 'pages': [{'id': 101, 'name': 'Python Developers'},\n",
       "  {'id': 102, 'name': 'Data Science Enthusiasts'},\n",
       "  {'id': 103, 'name': 'AI & ML Community'},\n",
       "  {'id': 104, 'name': 'Web Dev Hub'},\n",
       "  {'id': 104, 'name': 'Web Development'}]}"
      ]
     },
     "execution_count": 50,
     "metadata": {},
     "output_type": "execute_result"
    }
   ],
   "source": [
    "data"
   ]
  },
  {
   "cell_type": "code",
   "execution_count": 129,
   "id": "da1bd19c-b022-4ab0-b28e-da4b22544c42",
   "metadata": {},
   "outputs": [],
   "source": [
    "# Defining a function to clean the data: \n",
    "\n",
    "def clean_data(data):\n",
    "    \n",
    "    # REMOVING USERS WITH MISSING NAMES: \n",
    "    # List comprehension\n",
    "    data['users'] = [i for i in data[\"users\"] if i[\"name\"].strip() ]          \n",
    "    \n",
    "    # Removing duplicate friends:\n",
    "    # Type conversion to sets for removal for null values and again conversion to list\n",
    "    for i in data['users']:\n",
    "        i['friends'] = list(set(i['friends']))    \n",
    "    \n",
    "    # Removing inactive users: \n",
    "    # List comprehension\n",
    "    data['users'] = [i for i in data[\"users\"] if i[\"friends\"] or i[\"liked_pages\"] ]  \n",
    "    \n",
    "    # Removing duplicate pages:\n",
    "    unique_pages = {}\n",
    "    for page in data['pages']:\n",
    "        unique_pages[page['id']] = page \n",
    "\n",
    "    data['pages'] = list(unique_pages.values())\n",
    "    return data"
   ]
  },
  {
   "cell_type": "code",
   "execution_count": 131,
   "id": "a374d2f8-66ed-4ad2-8459-0a8eca7a864a",
   "metadata": {},
   "outputs": [],
   "source": [
    "clean_data = clean_data(data)"
   ]
  },
  {
   "cell_type": "code",
   "execution_count": 133,
   "id": "5b6c96e0-dbbb-4a2c-9d50-b35ed260f4f7",
   "metadata": {},
   "outputs": [
    {
     "data": {
      "text/plain": [
       "{'users': [{'id': 1, 'name': 'Amit', 'friends': [2, 3], 'liked_pages': [101]},\n",
       "  {'id': 2, 'name': 'Priya', 'friends': [1, 4], 'liked_pages': [102]},\n",
       "  {'id': 4, 'name': 'Sara', 'friends': [2], 'liked_pages': [104]}],\n",
       " 'pages': [{'id': 101, 'name': 'Python Developers'},\n",
       "  {'id': 102, 'name': 'Data Science Enthusiasts'},\n",
       "  {'id': 103, 'name': 'AI & ML Community'},\n",
       "  {'id': 104, 'name': 'Web Development'}]}"
      ]
     },
     "execution_count": 133,
     "metadata": {},
     "output_type": "execute_result"
    }
   ],
   "source": [
    "clean_data"
   ]
  },
  {
   "cell_type": "code",
   "execution_count": null,
   "id": "c97a53f0-0993-4d89-af82-4c4afa8300a1",
   "metadata": {},
   "outputs": [],
   "source": []
  },
  {
   "cell_type": "code",
   "execution_count": null,
   "id": "1b6a9484-9679-42ee-a5a6-79acfab67e2e",
   "metadata": {},
   "outputs": [],
   "source": []
  }
 ],
 "metadata": {
  "kernelspec": {
   "display_name": "Python [conda env:base] *",
   "language": "python",
   "name": "conda-base-py"
  },
  "language_info": {
   "codemirror_mode": {
    "name": "ipython",
    "version": 3
   },
   "file_extension": ".py",
   "mimetype": "text/x-python",
   "name": "python",
   "nbconvert_exporter": "python",
   "pygments_lexer": "ipython3",
   "version": "3.12.7"
  }
 },
 "nbformat": 4,
 "nbformat_minor": 5
}
