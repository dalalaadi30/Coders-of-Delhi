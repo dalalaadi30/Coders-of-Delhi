{
 "cells": [
  {
   "cell_type": "code",
   "execution_count": 25,
   "id": "a0d5c17a-f3dd-4051-8471-101d845c4718",
   "metadata": {},
   "outputs": [],
   "source": [
    "import json"
   ]
  },
  {
   "cell_type": "code",
   "execution_count": 98,
   "id": "496baa18-4bfe-47be-9ac0-af82ba8d04d9",
   "metadata": {},
   "outputs": [],
   "source": [
    "# Defining a function to load the data \n",
    "\n",
    "def load_data(filename):\n",
    "    with open(filename, \"r\") as f:\n",
    "        data = json.load(f)\n",
    "    return data"
   ]
  },
  {
   "cell_type": "code",
   "execution_count": 33,
   "id": "62c4b80a-25cf-4d3f-98d7-8c9edfc15755",
   "metadata": {},
   "outputs": [],
   "source": [
    "data = load_data(\"data.json\")"
   ]
  },
  {
   "cell_type": "code",
   "execution_count": 35,
   "id": "b6d829f5-2cec-425c-854f-ebc609f75853",
   "metadata": {},
   "outputs": [
    {
     "data": {
      "text/plain": [
       "{'users': [{'id': 1, 'name': 'Amit', 'friends': [2, 3], 'liked_pages': [101]},\n",
       "  {'id': 2, 'name': 'Priya', 'friends': [1, 4], 'liked_pages': [102]},\n",
       "  {'id': 3, 'name': 'Rahul', 'friends': [1], 'liked_pages': [101, 103]},\n",
       "  {'id': 4, 'name': 'Sara', 'friends': [2], 'liked_pages': [104]}],\n",
       " 'pages': [{'id': 101, 'name': 'Python Developers'},\n",
       "  {'id': 102, 'name': 'Data Science Enthusiasts'},\n",
       "  {'id': 103, 'name': 'AI & ML Community'},\n",
       "  {'id': 104, 'name': 'Web Dev Hub'}]}"
      ]
     },
     "execution_count": 35,
     "metadata": {},
     "output_type": "execute_result"
    }
   ],
   "source": [
    "data"
   ]
  },
  {
   "cell_type": "code",
   "execution_count": 38,
   "id": "54076825-cd1e-4fed-b628-1dcaf6ee4781",
   "metadata": {},
   "outputs": [
    {
     "data": {
      "text/plain": [
       "dict"
      ]
     },
     "execution_count": 38,
     "metadata": {},
     "output_type": "execute_result"
    }
   ],
   "source": [
    "type(data)"
   ]
  },
  {
   "cell_type": "code",
   "execution_count": 81,
   "id": "0aaa8f71-4997-4e9a-ad77-9bdca205faf0",
   "metadata": {},
   "outputs": [
    {
     "name": "stdout",
     "output_type": "stream",
     "text": [
      "\n",
      "User and their connection details:\n",
      "\n",
      "ID 1 - Amit is friend with:[2, 3] and have liked [101]\n",
      "ID 2 - Priya is friend with:[1, 4] and have liked [102]\n",
      "ID 3 - Rahul is friend with:[1] and have liked [101, 103]\n",
      "ID 4 - Sara is friend with:[2] and have liked [104]\n",
      "\n",
      "Pages Information\n",
      "\n",
      "101 : Python Developers\n",
      "102 : Data Science Enthusiasts\n",
      "103 : AI & ML Community\n",
      "104 : Web Dev Hub\n"
     ]
    }
   ],
   "source": [
    "# Defining a function to display user friends & connections \n",
    "\n",
    "def display_users(data):\n",
    "\n",
    "    print(\"\\nUser and their connection details:\\n\")\n",
    "    for i in data['users']:\n",
    "        print(f\"ID {i['id']} - {i['name']} is friend with:{i['friends']} and have liked {i['liked_pages']}\")\n",
    "\n",
    "    print(\"\\nPages Information\\n\")\n",
    "    for x in data['pages']:\n",
    "        print(f\"{x['id']} : {x['name']}\")\n",
    "\n",
    "display_users(data)"
   ]
  },
  {
   "cell_type": "code",
   "execution_count": null,
   "id": "570423be-0053-4bbd-bdab-3b17f2d34623",
   "metadata": {},
   "outputs": [],
   "source": []
  },
  {
   "cell_type": "code",
   "execution_count": null,
   "id": "c5525460-100a-45fe-a5e9-b509fcf92818",
   "metadata": {},
   "outputs": [],
   "source": []
  }
 ],
 "metadata": {
  "kernelspec": {
   "display_name": "Python [conda env:base] *",
   "language": "python",
   "name": "conda-base-py"
  },
  "language_info": {
   "codemirror_mode": {
    "name": "ipython",
    "version": 3
   },
   "file_extension": ".py",
   "mimetype": "text/x-python",
   "name": "python",
   "nbconvert_exporter": "python",
   "pygments_lexer": "ipython3",
   "version": "3.12.7"
  }
 },
 "nbformat": 4,
 "nbformat_minor": 5
}
