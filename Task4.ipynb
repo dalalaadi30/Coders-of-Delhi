{
 "cells": [
  {
   "cell_type": "code",
   "execution_count": 1,
   "id": "f7ffa6e6-4794-4ad3-b622-f219b2f2e8b2",
   "metadata": {},
   "outputs": [],
   "source": [
    "# Pages you may like: "
   ]
  },
  {
   "cell_type": "code",
   "execution_count": 4,
   "id": "bca3905e-fc0b-4777-a0e2-48404270ce49",
   "metadata": {},
   "outputs": [],
   "source": [
    "import json"
   ]
  },
  {
   "cell_type": "code",
   "execution_count": 7,
   "id": "a60e93de-1b49-4a81-8991-55d44d1bbee2",
   "metadata": {},
   "outputs": [],
   "source": [
    "def load_data(filename):\n",
    "    with open(filename, \"r\") as f:\n",
    "        data = json.load(f)\n",
    "    return data"
   ]
  },
  {
   "cell_type": "code",
   "execution_count": 10,
   "id": "2fb41339-ed8d-4aeb-8d61-f822742f576b",
   "metadata": {},
   "outputs": [],
   "source": [
    "data = load_data(\"data.json\")"
   ]
  },
  {
   "cell_type": "code",
   "execution_count": 13,
   "id": "e38d4c9d-2030-4357-931d-5b13a4de2c58",
   "metadata": {},
   "outputs": [
    {
     "data": {
      "text/plain": [
       "{'users': [{'id': 1, 'name': 'Amit', 'friends': [2, 3], 'liked_pages': [101]},\n",
       "  {'id': 2, 'name': 'Priya', 'friends': [1, 4], 'liked_pages': [102]},\n",
       "  {'id': 3, 'name': 'Rahul', 'friends': [1], 'liked_pages': [101, 103]},\n",
       "  {'id': 4, 'name': 'Sara', 'friends': [2], 'liked_pages': [104]}],\n",
       " 'pages': [{'id': 101, 'name': 'Python Developers'},\n",
       "  {'id': 102, 'name': 'Data Science Enthusiasts'},\n",
       "  {'id': 103, 'name': 'AI & ML Community'},\n",
       "  {'id': 104, 'name': 'Web Dev Hub'}]}"
      ]
     },
     "execution_count": 13,
     "metadata": {},
     "output_type": "execute_result"
    }
   ],
   "source": [
    "data"
   ]
  },
  {
   "cell_type": "code",
   "execution_count": 15,
   "id": "3dad1594-05c1-4bd1-8f7f-617c81a2b973",
   "metadata": {},
   "outputs": [],
   "source": [
    "# Function to find pages user may like: "
   ]
  },
  {
   "cell_type": "code",
   "execution_count": 21,
   "id": "7f1a692c-a9df-436e-a8b1-f62f724f247d",
   "metadata": {},
   "outputs": [
    {
     "name": "stdout",
     "output_type": "stream",
     "text": [
      "Pages You Might Like for User 1: [103, 105, 107, 104, 106, 108, 109, 110, 111, 112, 113, 114, 115, 116, 117, 118, 119, 120, 121, 122, 123, 124, 125, 126, 127]\n"
     ]
    }
   ],
   "source": [
    "import json\n",
    "\n",
    "# Function to load JSON data from a file\n",
    "def load_data(filename):\n",
    "    with open(filename, \"r\") as file:\n",
    "        return json.load(file)\n",
    "\n",
    "# Function to find pages a user might like based on common interests\n",
    "def find_pages_you_might_like(user_id, data):\n",
    "    # Dictionary to store user interactions with pages\n",
    "    user_pages = {}\n",
    "    for user in data[\"users\"]:\n",
    "        user_pages[user[\"id\"]] = set(user[\"liked_pages\"])\n",
    "    \n",
    "    # If the user is not found, return an empty list\n",
    "    if user_id not in user_pages:\n",
    "        return []\n",
    "    \n",
    "    user_liked_pages = user_pages[user_id]\n",
    "    page_suggestions = {}\n",
    "    \n",
    "    for other_user, pages in user_pages.items():\n",
    "        if other_user != user_id:\n",
    "            shared_pages = user_liked_pages.intersection(pages)\n",
    "            for page in pages:\n",
    "                if page not in user_liked_pages:\n",
    "                    page_suggestions[page] = page_suggestions.get(page, 0) + len(shared_pages)\n",
    "    \n",
    "    # Sort recommended pages based on the number of shared interactions\n",
    "    sorted_pages = sorted(page_suggestions.items(), key=lambda x: x[1], reverse=True)\n",
    "    return [page_id for page_id, _ in sorted_pages]\n",
    "\n",
    "# Load data\n",
    "data = load_data(\"massive_data.json\")\n",
    "user_id = 1  # Example: Finding recommendations for Amit\n",
    "page_recommendations = find_pages_you_might_like(user_id, data)\n",
    "print(f\"Pages You Might Like for User {user_id}: {page_recommendations}\")"
   ]
  },
  {
   "cell_type": "code",
   "execution_count": null,
   "id": "a9360ec6-7353-40a9-90ee-acc9fda48497",
   "metadata": {},
   "outputs": [],
   "source": []
  }
 ],
 "metadata": {
  "kernelspec": {
   "display_name": "Python [conda env:base] *",
   "language": "python",
   "name": "conda-base-py"
  },
  "language_info": {
   "codemirror_mode": {
    "name": "ipython",
    "version": 3
   },
   "file_extension": ".py",
   "mimetype": "text/x-python",
   "name": "python",
   "nbconvert_exporter": "python",
   "pygments_lexer": "ipython3",
   "version": "3.12.7"
  }
 },
 "nbformat": 4,
 "nbformat_minor": 5
}
